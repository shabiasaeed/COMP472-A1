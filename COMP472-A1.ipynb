{
  "cells": [
    {
      "cell_type": "markdown",
      "id": "a35eeb9f-df70-4ab1-a243-2d2025888eb0",
      "metadata": {},
      "source": [
        "# 🐚🐧 Penguin and Abalone Classifier 🐧🐚\n",
        "Using different machine learning algorithms and different data sets, this notebook attempts to predict the species of a penguin given its features and the sex of an abalone given its features."
      ]
    },
    {
      "cell_type": "markdown",
      "id": "c41e8d4a-3314-4d22-b884-b2cb1f8a8e8c",
      "metadata": {},
      "source": [
        "### Imports and Declarations"
      ]
    },
    {
      "cell_type": "code",
      "execution_count": 2,
      "id": "fe55883a-6887-43dd-9498-5333a51799e2",
      "metadata": {
        "trusted": true
      },
      "outputs": [],
      "source": [
        "# data analysis and manipulation\n",
        "import pandas as pd\n",
        "import numpy as np\n",
        "\n",
        "# data visualization\n",
        "import matplotlib.pyplot as plt\n",
        "\n",
        "# data preprocessing\n",
        "from sklearn.model_selection import train_test_split\n",
        "from sklearn.model_selection import GridSearchCV\n",
        "from sklearn.metrics import confusion_matrix\n",
        "\n",
        "# model\n",
        "from sklearn.tree import DecisionTreeClassifier as DTree\n",
        "from sklearn.neural_network import MLPClassifier as MLP\n"
      ]
    },
    {
      "cell_type": "markdown",
      "id": "af459636",
      "metadata": {},
      "source": [
        "## Dataset"
      ]
    },
    {
      "cell_type": "code",
      "execution_count": null,
      "id": "5d5d3cf4",
      "metadata": {},
      "outputs": [],
      "source": [
        "# INSERT CODE HERE\n",
        "# read data from file\n",
        "penguin = pd.read_csv('penguins.csv')\n",
        "abalone = pd.read_csv('abalone.csv')"
      ]
    },
    {
      "cell_type": "markdown",
      "id": "aa3d6b3e",
      "metadata": {},
      "source": [
        "## Preprocessing"
      ]
    },
    {
      "cell_type": "code",
      "execution_count": null,
      "id": "d40c05d4",
      "metadata": {},
      "outputs": [],
      "source": [
        "# INSERT CODE HERE"
      ]
    },
    {
      "cell_type": "markdown",
      "id": "9ee8f710",
      "metadata": {},
      "source": [
        "## Charting"
      ]
    },
    {
      "cell_type": "code",
      "execution_count": null,
      "id": "2ac2f42a",
      "metadata": {},
      "outputs": [],
      "source": [
        "# INSERT CODE HERE"
      ]
    },
    {
      "cell_type": "markdown",
      "id": "92f39803",
      "metadata": {},
      "source": [
        "## Data Splitting"
      ]
    },
    {
      "cell_type": "code",
      "execution_count": null,
      "id": "ae6edf60",
      "metadata": {},
      "outputs": [],
      "source": [
        "# INSERT CODE HERE"
      ]
    },
    {
      "cell_type": "markdown",
      "id": "533d7c3c",
      "metadata": {},
      "source": [
        "## Base Decision Tree"
      ]
    },
    {
      "cell_type": "code",
      "execution_count": null,
      "id": "cb8c5d16",
      "metadata": {},
      "outputs": [],
      "source": [
        "# INSERT CODE HERE"
      ]
    },
    {
      "cell_type": "markdown",
      "id": "b3a41c0d",
      "metadata": {},
      "source": [
        "## Top Decision Tree"
      ]
    },
    {
      "cell_type": "code",
      "execution_count": null,
      "id": "56cf61f5",
      "metadata": {},
      "outputs": [],
      "source": [
        "# INSERT CODE HERE"
      ]
    },
    {
      "cell_type": "markdown",
      "id": "724f0b68",
      "metadata": {},
      "source": [
        "## Base MLP"
      ]
    },
    {
      "cell_type": "code",
      "execution_count": null,
      "id": "266ebd97",
      "metadata": {},
      "outputs": [],
      "source": [
        "# INSERT CODE HERE"
      ]
    },
    {
      "cell_type": "markdown",
      "id": "8bec91fe",
      "metadata": {},
      "source": [
        "## Top MLP"
      ]
    },
    {
      "cell_type": "code",
      "execution_count": null,
      "id": "da90093b",
      "metadata": {},
      "outputs": [],
      "source": [
        "# INSERT CODE HERE"
      ]
    },
    {
      "cell_type": "markdown",
      "id": "1719cb37",
      "metadata": {},
      "source": [
        "## Output Statistics"
      ]
    },
    {
      "cell_type": "code",
      "execution_count": null,
      "id": "43747abf",
      "metadata": {},
      "outputs": [],
      "source": [
        "# INSERT CODE HERE"
      ]
    }
  ],
  "metadata": {
    "kernelspec": {
      "display_name": "Python 3",
      "language": "python",
      "name": "python3"
    },
    "language_info": {
      "codemirror_mode": {
        "name": "ipython",
        "version": 3
      },
      "file_extension": ".py",
      "mimetype": "text/x-python",
      "name": "python",
      "nbconvert_exporter": "python",
      "pygments_lexer": "ipython3",
      "version": "3.11.6"
    }
  },
  "nbformat": 4,
  "nbformat_minor": 5
}
